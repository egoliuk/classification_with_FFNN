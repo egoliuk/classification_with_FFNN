{
 "cells": [
  {
   "cell_type": "code",
   "execution_count": 1,
   "metadata": {},
   "outputs": [],
   "source": [
    "import numpy as np\n",
    "import pandas as pd\n",
    "from sklearn.model_selection import train_test_split\n",
    "from sklearn.metrics import accuracy_score"
   ]
  },
  {
   "cell_type": "markdown",
   "metadata": {},
   "source": [
    "Сігмоїд-функція (активаційна функція)"
   ]
  },
  {
   "cell_type": "code",
   "execution_count": 2,
   "metadata": {},
   "outputs": [],
   "source": [
    "def sigmoid(x):\n",
    "# -------------------Завдання-------------------\n",
    "    return 1 / (1 + np.exp(-x))\n",
    "# ----------------------------------------------"
   ]
  },
  {
   "cell_type": "markdown",
   "metadata": {},
   "source": [
    "Похідна від сігмоїд-функції"
   ]
  },
  {
   "cell_type": "code",
   "execution_count": 3,
   "metadata": {},
   "outputs": [],
   "source": [
    "def sigmoid_deriv(x):\n",
    "# -------------------Завдання-------------------\n",
    "    return sigmoid(x)*(1-sigmoid(x))\n",
    "# ----------------------------------------------"
   ]
  },
  {
   "cell_type": "markdown",
   "metadata": {},
   "source": [
    "Функції, що зменшують швидкість навчання"
   ]
  },
  {
   "cell_type": "code",
   "execution_count": 4,
   "metadata": {},
   "outputs": [],
   "source": [
    "def reduce_exp(x):\n",
    "    return (np.exp(x) - 1) / 2\n",
    "\n",
    "def reduce_cosh(x):\n",
    "    return np.cosh(x) - 1"
   ]
  },
  {
   "cell_type": "code",
   "execution_count": 5,
   "metadata": {},
   "outputs": [],
   "source": [
    "weights = [np.array([[1.0, 1.0, 1.0, 1.0], [0.2, 0.4, 0.7, 0.5], [0.3, 0.5, 0.6, 0.9]]),\n",
    "           np.array([[0.2], [0.4], [0.6], [0.8]])]"
   ]
  },
  {
   "cell_type": "markdown",
   "metadata": {},
   "source": [
    "Функція для тренування нейромережі"
   ]
  },
  {
   "cell_type": "code",
   "execution_count": 6,
   "metadata": {},
   "outputs": [],
   "source": [
    "# ----------------------Завдання----------------------\n",
    "# Встановіть потрібну швидкість навчання learning_rate\n",
    "def fit(X, y, learning_rate=0.5, epochs=100000):\n",
    "# ----------------------------------------------------\n",
    "\n",
    "    # До вхідних даних додається колонка х0 з одиницями, що є множниками для біасу\n",
    "    # Тепер розмірність вхідного вектора [1, 3]\n",
    "    ones = np.atleast_2d(np.ones(X.shape[0]))\n",
    "    X = np.concatenate((ones.T, X), axis=1)\n",
    "\n",
    "    for k in range(epochs):\n",
    "\n",
    "        # Вхідний вектор обирається випадковим чином з тренувальної вибірки\n",
    "        i = np.random.randint(X.shape[0])\n",
    "        a = [X[i]]\n",
    "\n",
    "        for l in range(len(weights)):\n",
    "\n",
    "            # Вхід до шару\n",
    "            dot_value = np.dot(a[l], weights[l])\n",
    "\n",
    "            # Результат роботи активаційної функції\n",
    "            activation = sigmoid(dot_value)\n",
    "            a.append(activation)\n",
    "\n",
    "        # Помилка\n",
    "        error = y[i] - a[-1]\n",
    "\n",
    "        # Похідна dE/dw для вихідного шару\n",
    "        deltas = [error * sigmoid_deriv(a[-1])]\n",
    "\n",
    "        # Похідна dE/dw для прихованого шару\n",
    "        for l in range(len(a) - 2, 0, -1):\n",
    "            deltas.append(deltas[-1].dot(weights[l].T)\n",
    "                          * sigmoid_deriv(a[l]))\n",
    "\n",
    "        # Порядок розташування похідних змінюється на протилежний,\n",
    "        # тобто (вихідний шар)->(прихований шар) змінюється на (прихований шар)->(вихідний шар)\n",
    "        deltas.reverse()\n",
    "\n",
    "        # З кожною епохою швидкість навчання зменшується\n",
    "        \n",
    "        # ------------------Увага------------------\n",
    "        # Оберіть та розкоментуйте одну з функцій\n",
    "        #learning_rate = reduce_exp(learning_rate)\n",
    "        # чи\n",
    "        learning_rate = reduce_cosh(learning_rate)\n",
    "        # -----------------------------------------\n",
    "\n",
    "        # Зворотнє поширення помилки\n",
    "        for i in range(len(weights)):\n",
    "            layer = np.atleast_2d(a[i])\n",
    "            delta = np.atleast_2d(deltas[i])\n",
    "            weights[i] += learning_rate * layer.T.dot(delta)"
   ]
  },
  {
   "cell_type": "markdown",
   "metadata": {},
   "source": [
    "Функція для прогнозу вихідних даних на основі вхідних"
   ]
  },
  {
   "cell_type": "code",
   "execution_count": 7,
   "metadata": {},
   "outputs": [],
   "source": [
    "def predict(x):\n",
    "    a = np.concatenate((np.ones(1).T, np.array(x)), axis=0)\n",
    "    for l in range(0, len(weights)):\n",
    "        a = sigmoid(np.dot(a, weights[l]))\n",
    "    return a"
   ]
  },
  {
   "cell_type": "code",
   "execution_count": 8,
   "metadata": {},
   "outputs": [
    {
     "name": "stdout",
     "output_type": "stream",
     "text": [
      "Accuracy score: 0.750000 \n",
      "\n",
      "CPU times: user 3.92 s, sys: 14.7 ms, total: 3.93 s\n",
      "Wall time: 3.93 s\n"
     ]
    }
   ],
   "source": [
    "%%time\n",
    "# %%time - вбудована магічна функція для виводу результатів роботи всього \"cell\"-у\n",
    "\n",
    "# Дані зчитуються із файла\n",
    "df = pd.read_csv('./dataset/data.csv', sep=',')\n",
    "\n",
    "# Вихідні дані відокремлюються від загального набору даних\n",
    "labels = df['y']\n",
    "df = df.drop(['y'], axis=1)\n",
    "\n",
    "# З вхідних та вихідних наборів даних формуються тренувальні та тестові вибірки відповідно\n",
    "x_train, x_test, y_train, y_test = train_test_split(\n",
    "    df, labels, test_size=0.2, random_state=0)\n",
    "x_train, x_test, y_train, y_test = x_train.values, x_test.values, y_train.values, y_test.values\n",
    "\n",
    "y_train = y_train.reshape(len(y_train), 1)\n",
    "y_test = y_test.reshape(len(y_test), 1)\n",
    "\n",
    "fit(x_train, y_train)\n",
    "\n",
    "y_pred = np.array([[0.]])\n",
    "for e in x_test:\n",
    "\n",
    "            # Прогноз для тестових вхідних даних\n",
    "    y_pred = np.vstack((y_pred, int(predict(e))))\n",
    "\n",
    "y_pred = y_pred[1::].reshape(1, len(y_test))[0]\n",
    "y_test = y_test.reshape(1, len(y_test))[0]\n",
    "\n",
    "# Точність роботи нейромережі\n",
    "print (\"Accuracy score: %f \\n\" %accuracy_score(y_test, y_pred))"
   ]
  },
  {
   "cell_type": "code",
   "execution_count": null,
   "metadata": {},
   "outputs": [],
   "source": []
  }
 ],
 "metadata": {
  "kernelspec": {
   "display_name": "Python 3",
   "language": "python",
   "name": "python3"
  },
  "language_info": {
   "codemirror_mode": {
    "name": "ipython",
    "version": 3
   },
   "file_extension": ".py",
   "mimetype": "text/x-python",
   "name": "python",
   "nbconvert_exporter": "python",
   "pygments_lexer": "ipython3",
   "version": "3.6.4"
  }
 },
 "nbformat": 4,
 "nbformat_minor": 2
}
