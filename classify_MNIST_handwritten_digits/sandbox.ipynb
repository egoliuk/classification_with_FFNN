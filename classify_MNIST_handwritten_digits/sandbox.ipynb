{
 "cells": [
  {
   "cell_type": "markdown",
   "metadata": {},
   "source": [
    "### Імпорт модулів"
   ]
  },
  {
   "cell_type": "code",
   "execution_count": 1,
   "metadata": {},
   "outputs": [],
   "source": [
    "import numpy\n",
    "import scipy.misc\n",
    "import matplotlib.pyplot\n",
    "from neural_network import NeuralNetwork"
   ]
  },
  {
   "cell_type": "markdown",
   "metadata": {},
   "source": [
    "### Параметри нейронної мережі"
   ]
  },
  {
   "cell_type": "code",
   "execution_count": 2,
   "metadata": {},
   "outputs": [],
   "source": [
    "input_nodes_number = 784\n",
    "# залежність ефективності нейронної мережі від кількості прихованих вузлів нелінійна.\n",
    "# 200 вузлів дозволяють досягти компроміс\n",
    "# між ефективністью нейронною мережі та затратами часу на її тренування.\n",
    "hidden_nodes_number = 200\n",
    "output_nodes_number = 10\n",
    "# коефіцієнт навчання впливає на монотонність процесу мінімізації похибки та\n",
    "# швидкість (розмір кроку) методу градієнтного спуску.\n",
    "# враховуючи, що процес тренування нейронної мережі містить елементи випадковості,\n",
    "# шляхом підбору коефіцієнтів було встановлено,\n",
    "# що оптимальний коефіцієнт може бути в діапазоні від 0,1 до 0,3\n",
    "training_factor = 0.1\n",
    "# епоха - кількість разів використання тренувальної вибірки даних\n",
    "# для тренування нейронної мережі.\n",
    "# Кількість тренувальних епох впливає на розмір коефіцієнту тренування,\n",
    "# оскільки при більшій кількості епох, можна використати менший крок градієнтного спуску.\n",
    "epochs = 5"
   ]
  },
  {
   "cell_type": "markdown",
   "metadata": {},
   "source": [
    " ### Ініціалізація моделі"
   ]
  },
  {
   "cell_type": "code",
   "execution_count": 3,
   "metadata": {},
   "outputs": [],
   "source": [
    "neural_network = NeuralNetwork(input_nodes_number,\n",
    "                  hidden_nodes_number,\n",
    "                  output_nodes_number,\n",
    "                  training_factor)"
   ]
  },
  {
   "cell_type": "markdown",
   "metadata": {},
   "source": [
    "### Підготовка тренувальних даних"
   ]
  },
  {
   "cell_type": "code",
   "execution_count": 4,
   "metadata": {},
   "outputs": [],
   "source": [
    "training_data_file = open(\"dataset/MNIST/mnist_train_60000_full.csv\", 'r')\n",
    "training_data_list = training_data_file.readlines()\n",
    "training_data_file.close()"
   ]
  },
  {
   "cell_type": "markdown",
   "metadata": {},
   "source": [
    "### Демонстрація зображення з набору MNIST"
   ]
  },
  {
   "cell_type": "code",
   "execution_count": 5,
   "metadata": {},
   "outputs": [
    {
     "data": {
      "image/png": "[encoded data removed]",
      "text/plain": [
       "<matplotlib.figure.Figure at 0x7fce83e4efd0>"
      ]
     },
     "metadata": {},
     "output_type": "display_data"
    }
   ],
   "source": [
    "image_array = numpy.asfarray(training_data_list[0].split(',')[1:]).reshape((28, 28))\n",
    "matplotlib.pyplot.imshow(image_array, cmap='Greys', interpolation='None')\n",
    "matplotlib.pyplot.show()"
   ]
  },
  {
   "cell_type": "markdown",
   "metadata": {},
   "source": [
    "### Тренування моделі"
   ]
  },
  {
   "cell_type": "code",
   "execution_count": 6,
   "metadata": {},
   "outputs": [],
   "source": [
    "for e in range(epochs):\n",
    "    for line in training_data_list:\n",
    "        all_values = line.split(',')\n",
    "        input_signals = (numpy.asfarray(all_values[1:]) / 255.0 * 0.99) + 0.01\n",
    "        correct_output_signals = numpy.zeros(output_nodes_number) + 0.01\n",
    "        correct_output_signals[int(all_values[0])] = 0.99\n",
    "        neural_network.train(input_signals, correct_output_signals)\n",
    "        pass\n",
    "    pass"
   ]
  },
  {
   "cell_type": "markdown",
   "metadata": {},
   "source": [
    "### Підготовка тестувальних даних"
   ]
  },
  {
   "cell_type": "code",
   "execution_count": 7,
   "metadata": {},
   "outputs": [],
   "source": [
    "test_data_file = open(\"dataset/MNIST/mnist_test_10000_full.csv\", 'r')\n",
    "test_data_list = test_data_file.readlines()\n",
    "test_data_file.close()"
   ]
  },
  {
   "cell_type": "markdown",
   "metadata": {},
   "source": [
    "### Тестування моделі"
   ]
  },
  {
   "cell_type": "code",
   "execution_count": 13,
   "metadata": {},
   "outputs": [
    {
     "name": "stdout",
     "output_type": "stream",
     "text": [
      "Eфективність =  0.9749\n"
     ]
    }
   ],
   "source": [
    "scores = []\n",
    "for record in test_data_list:\n",
    "    all_values = record.split(',')\n",
    "    correct_digit = int(all_values[0])\n",
    "    # print(correct_digit, \"справжнє значення\")\n",
    "    input_signals = (numpy.asfarray(all_values[1:]) / 255.0 * 0.99) + 0.01\n",
    "    output_signals = neural_network.query(input_signals)\n",
    "    output_digit = numpy.argmax(output_signals)\n",
    "    # print(output_digit, \"відповідь нейронної мережі\")\n",
    "    if output_digit == correct_digit:\n",
    "        scores.append(1)\n",
    "    else:\n",
    "        scores.append(0)\n",
    "        pass\n",
    "    \n",
    "    pass\n",
    "\n",
    "# print(scores)\n",
    "scores_array = numpy.asarray(scores)\n",
    "print(\"Eфективність = \", scores_array.sum() / scores_array.size)"
   ]
  },
  {
   "cell_type": "markdown",
   "metadata": {},
   "source": [
    "### Розпізнати саморобне зображення не з набору"
   ]
  },
  {
   "cell_type": "code",
   "execution_count": 15,
   "metadata": {},
   "outputs": [
    {
     "name": "stdout",
     "output_type": "stream",
     "text": [
      "5 відповідь нейронної мережі\n"
     ]
    },
    {
     "name": "stderr",
     "output_type": "stream",
     "text": [
      "/home/eugene/anaconda3/lib/python3.6/site-packages/ipykernel_launcher.py:1: DeprecationWarning: `imread` is deprecated!\n",
      "`imread` is deprecated in SciPy 1.0.0, and will be removed in 1.2.0.\n",
      "Use ``imageio.imread`` instead.\n",
      "  \"\"\"Entry point for launching an IPython kernel.\n"
     ]
    }
   ],
   "source": [
    "img_array = scipy.misc.imread(\"dataset/my_images/5.png\", flatten=True)\n",
    "img_data = 255.0 - img_array.reshape(784)\n",
    "img_data = (img_data / 255.0 * 0.99) + 0.01\n",
    "\n",
    "output_signals = neural_network.query(img_data)\n",
    "output_digit = numpy.argmax(output_signals)\n",
    "print(output_digit, \"відповідь нейронної мережі\")"
   ]
  },
  {
   "cell_type": "markdown",
   "metadata": {},
   "source": [
    "### Демонстрація зображення"
   ]
  },
  {
   "cell_type": "code",
   "execution_count": 16,
   "metadata": {},
   "outputs": [
    {
     "data": {
      "image/png": "[encoded data removed]",
      "text/plain": [
       "<matplotlib.figure.Figure at 0x7fce7a418128>"
      ]
     },
     "metadata": {},
     "output_type": "display_data"
    }
   ],
   "source": [
    "image_array = numpy.asfarray(img_data).reshape((28, 28))\n",
    "matplotlib.pyplot.imshow(image_array, cmap='Greys', interpolation='None')\n",
    "matplotlib.pyplot.show()"
   ]
  },
  {
   "cell_type": "code",
   "execution_count": null,
   "metadata": {},
   "outputs": [],
   "source": []
  }
 ],
 "metadata": {
  "kernelspec": {
   "display_name": "Python 3",
   "language": "python",
   "name": "python3"
  },
  "language_info": {
   "codemirror_mode": {
    "name": "ipython",
    "version": 3
   },
   "file_extension": ".py",
   "mimetype": "text/x-python",
   "name": "python",
   "nbconvert_exporter": "python",
   "pygments_lexer": "ipython3",
   "version": "3.6.4"
  }
 },
 "nbformat": 4,
 "nbformat_minor": 2
}
